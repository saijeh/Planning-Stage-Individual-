{
 "cells": [
  {
   "cell_type": "markdown",
   "id": "6d3b1873-9cfd-42bb-a2b1-560897533ae1",
   "metadata": {},
   "source": [
    "A research group in Computer Science at UBC has set up a MineCraft server in order to tackle the problem of predicting usage of a video game research server. By the provided data, the following question can be answered: What player characteristics and behaviours are most predictive of subscribing to a game-related newsletter, and how do these features differ between various player types?"
   ]
  },
  {
   "cell_type": "code",
   "execution_count": 2,
   "id": "7fe76139-724b-403c-8be5-9cdd7d960ae8",
   "metadata": {},
   "outputs": [
    {
     "ename": "ERROR",
     "evalue": "Error in parse(text = x, srcfile = src): <text>:3:30: unexpected input\n2: library(tidyverse)\n3: pdf_file <- \"players_(1).pdf\" \n                                ^\n",
     "output_type": "error",
     "traceback": [
      "Error in parse(text = x, srcfile = src): <text>:3:30: unexpected input\n2: library(tidyverse)\n3: pdf_file <- \"players_(1).pdf\" \n                                ^\nTraceback:\n"
     ]
    }
   ],
   "source": [
    "library(tabulizer)\n",
    "library(tidyverse)\n",
    "pdf_file <- \"path/to/your_file.pdf\"  \n",
    "pdf_tables <- pdf_file |>\n",
    "  extract_tables(output = \"data.frame\") |>\n",
    "  map(as_tibble) \n",
    "df <- as.data.frame(pdf_tables[[1]])"
   ]
  },
  {
   "cell_type": "markdown",
   "id": "f9a9c3ae-9f4d-4a5c-a9aa-41c88363bf39",
   "metadata": {},
   "source": [
    "By observing both tables from the available datasets, we can conclude and narrow down what is useful to the intended investigation and tidy the data, making it easier to be analyzed. "
   ]
  },
  {
   "cell_type": "markdown",
   "id": "83005941-6b05-46bd-bdcb-e0bf9f55c975",
   "metadata": {},
   "source": [
    "To start, Table 1 includes the following data:                                                                                         - The experience of player - Whether or not the players are subscribed to the sever\n",
    "    - Hashed emails \n",
    "    - The number of hours played in that session \n",
    "    - The name of players\n",
    "    - The age of players\n",
    "    - The gender of players\n",
    "From looking into the data included in Table 1, it can be seen that the primary focus is on the characteristics of the individuals playing the server. The inclusion of playing habits while simultaneously looking at the difference of characteristics among those in the dataset suggest that trends and conclusions can be made by, for instance, by filtering the table in different ways such as by gender. "
   ]
  },
  {
   "cell_type": "code",
   "execution_count": null,
   "id": "7e544bb9-9644-4514-a943-6bd4a50fc6ce",
   "metadata": {},
   "outputs": [],
   "source": []
  }
 ],
 "metadata": {
  "kernelspec": {
   "display_name": "R",
   "language": "R",
   "name": "ir"
  },
  "language_info": {
   "codemirror_mode": "r",
   "file_extension": ".r",
   "mimetype": "text/x-r-source",
   "name": "R",
   "pygments_lexer": "r",
   "version": "4.3.3"
  }
 },
 "nbformat": 4,
 "nbformat_minor": 5
}
