{
 "cells": [
  {
   "cell_type": "markdown",
   "id": "6d3b1873-9cfd-42bb-a2b1-560897533ae1",
   "metadata": {},
   "source": [
    "Broad Question:\n",
    "What player characteristics and behaviours are most predictive of subscribing to a game-related newsletter, and \n",
    "how do these features differ between various player types?\n",
    "\n",
    "My specific question: \n",
    "Can player characteristics predict subscriptions in players?"
   ]
  },
  {
   "cell_type": "code",
   "execution_count": 1,
   "id": "7fe76139-724b-403c-8be5-9cdd7d960ae8",
   "metadata": {},
   "outputs": [
    {
     "ename": "ERROR",
     "evalue": "Error in parse(text = x, srcfile = src): <text>:3:36: unexpected input\n2: library(tidyverse)\n3: pdf_file <- \"path/to/your_file.pdf\" \n                                      ^\n",
     "output_type": "error",
     "traceback": [
      "Error in parse(text = x, srcfile = src): <text>:3:36: unexpected input\n2: library(tidyverse)\n3: pdf_file <- \"path/to/your_file.pdf\" \n                                      ^\nTraceback:\n"
     ]
    }
   ],
   "source": [
    "library(tabulizer)\n",
    "library(tidyverse)\n",
    "pdf_file <- \"path/to/your_file.pdf\"  \n",
    "pdf_tables <- pdf_file |>\n",
    "  extract_tables(output = \"data.frame\") |>\n",
    "  map(as_tibble) \n",
    "df <- as.data.frame(pdf_tables[[1]])"
   ]
  },
  {
   "cell_type": "code",
   "execution_count": null,
   "id": "c1c3d9fb-5dcf-4752-9083-260880864f59",
   "metadata": {},
   "outputs": [],
   "source": []
  }
 ],
 "metadata": {
  "kernelspec": {
   "display_name": "R",
   "language": "R",
   "name": "ir"
  },
  "language_info": {
   "codemirror_mode": "r",
   "file_extension": ".r",
   "mimetype": "text/x-r-source",
   "name": "R",
   "pygments_lexer": "r",
   "version": "4.3.3"
  }
 },
 "nbformat": 4,
 "nbformat_minor": 5
}
