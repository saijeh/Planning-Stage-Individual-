{
 "cells": [
  {
   "cell_type": "markdown",
   "id": "6d3b1873-9cfd-42bb-a2b1-560897533ae1",
   "metadata": {},
   "source": [
    "A research group in Computer Science at UBC has set up a MineCraft server in order to tackle the problem of predicting usage of a video game research server. By the provided data, the following question can be answered: What player characteristics and behaviours are most predictive of subscribing to a game-related newsletter, and how do these features differ between various player types?"
   ]
  },
  {
   "cell_type": "code",
   "execution_count": 1,
   "id": "7fe76139-724b-403c-8be5-9cdd7d960ae8",
   "metadata": {},
   "outputs": [
    {
     "name": "stderr",
     "output_type": "stream",
     "text": [
      "── \u001b[1mAttaching core tidyverse packages\u001b[22m ──────────────────────── tidyverse 2.0.0 ──\n",
      "\u001b[32m✔\u001b[39m \u001b[34mdplyr    \u001b[39m 1.1.4     \u001b[32m✔\u001b[39m \u001b[34mreadr    \u001b[39m 2.1.5\n",
      "\u001b[32m✔\u001b[39m \u001b[34mforcats  \u001b[39m 1.0.0     \u001b[32m✔\u001b[39m \u001b[34mstringr  \u001b[39m 1.5.1\n",
      "\u001b[32m✔\u001b[39m \u001b[34mggplot2  \u001b[39m 3.5.1     \u001b[32m✔\u001b[39m \u001b[34mtibble   \u001b[39m 3.2.1\n",
      "\u001b[32m✔\u001b[39m \u001b[34mlubridate\u001b[39m 1.9.3     \u001b[32m✔\u001b[39m \u001b[34mtidyr    \u001b[39m 1.3.1\n",
      "\u001b[32m✔\u001b[39m \u001b[34mpurrr    \u001b[39m 1.0.2     \n",
      "── \u001b[1mConflicts\u001b[22m ────────────────────────────────────────── tidyverse_conflicts() ──\n",
      "\u001b[31m✖\u001b[39m \u001b[34mdplyr\u001b[39m::\u001b[32mfilter()\u001b[39m masks \u001b[34mstats\u001b[39m::filter()\n",
      "\u001b[31m✖\u001b[39m \u001b[34mdplyr\u001b[39m::\u001b[32mlag()\u001b[39m    masks \u001b[34mstats\u001b[39m::lag()\n",
      "\u001b[36mℹ\u001b[39m Use the conflicted package (\u001b[3m\u001b[34m<http://conflicted.r-lib.org/>\u001b[39m\u001b[23m) to force all conflicts to become errors\n"
     ]
    },
    {
     "ename": "ERROR",
     "evalue": "Error in eval(expr, envir, enclos): object 'pdf_file' not found\n",
     "output_type": "error",
     "traceback": [
      "Error in eval(expr, envir, enclos): object 'pdf_file' not found\nTraceback:\n",
      "1. read_csv(pdf_file)",
      "2. vroom::vroom(file, delim = \",\", col_names = col_names, col_types = col_types, \n .     col_select = {\n .         {\n .             col_select\n .         }\n .     }, id = id, .name_repair = name_repair, skip = skip, n_max = n_max, \n .     na = na, quote = quote, comment = comment, skip_empty_rows = skip_empty_rows, \n .     trim_ws = trim_ws, escape_double = TRUE, escape_backslash = FALSE, \n .     locale = locale, guess_max = guess_max, show_col_types = show_col_types, \n .     progress = progress, altrep = lazy, num_threads = num_threads)",
      "3. standardise_path(file)"
     ]
    }
   ],
   "source": [
    "library(tidyverse)\n",
    "table_1 <- \"players.csv\"\n",
    "read_csv(pdf_file)"
   ]
  },
  {
   "cell_type": "code",
   "execution_count": 2,
   "id": "56f69d64-06ad-4da7-9d6f-370c2361d6aa",
   "metadata": {},
   "outputs": [
    {
     "ename": "ERROR",
     "evalue": "Error in eval(expr, envir, enclos): object 'pdf_file' not found\n",
     "output_type": "error",
     "traceback": [
      "Error in eval(expr, envir, enclos): object 'pdf_file' not found\nTraceback:\n",
      "1. read_csv(pdf_file)",
      "2. vroom::vroom(file, delim = \",\", col_names = col_names, col_types = col_types, \n .     col_select = {\n .         {\n .             col_select\n .         }\n .     }, id = id, .name_repair = name_repair, skip = skip, n_max = n_max, \n .     na = na, quote = quote, comment = comment, skip_empty_rows = skip_empty_rows, \n .     trim_ws = trim_ws, escape_double = TRUE, escape_backslash = FALSE, \n .     locale = locale, guess_max = guess_max, show_col_types = show_col_types, \n .     progress = progress, altrep = lazy, num_threads = num_threads)",
      "3. standardise_path(file)"
     ]
    }
   ],
   "source": [
    "library(tidyverse)\n",
    "table_2 <- \"sessions.csv\"\n",
    "read_csv(pdf_file)"
   ]
  },
  {
   "cell_type": "markdown",
   "id": "f9a9c3ae-9f4d-4a5c-a9aa-41c88363bf39",
   "metadata": {},
   "source": [
    "By observing both tables from the available datasets, we can conclude and narrow down what is useful to the intended investigation and tidy the data, making it easier to be analyzed, as well as excluding data that is not needed."
   ]
  },
  {
   "cell_type": "code",
   "execution_count": null,
   "id": "72c8a6d2-55bb-4ed6-ac85-1197d05a4533",
   "metadata": {},
   "outputs": [],
   "source": []
  },
  {
   "cell_type": "markdown",
   "id": "83005941-6b05-46bd-bdcb-e0bf9f55c975",
   "metadata": {},
   "source": [
    "To start, Table 1 includes the following data: \n",
    "- The experience of players\n",
    "- Whether or not the players are subscribed to the sever\n",
    "- Hashed emails \n",
    "- The number of hours played in that session \n",
    "- The name of players\n",
    "- The age of players\n",
    "- The gender of players\n",
    "\n",
    "From looking into the data included in Table 1, it can be seen that the primary focus is on the characteristics of the individuals playing the server. The inclusion of playing habits while simultaneously looking at the difference of characteristics among those in the dataset suggest that trends and conclusions can be made by, for instance, by filtering the table in different ways such as by gender, as well as plotting it to visualize relationships."
   ]
  },
  {
   "cell_type": "code",
   "execution_count": 3,
   "id": "ca9ee2f3-2492-4089-888f-0695b892f7e1",
   "metadata": {},
   "outputs": [],
   "source": [
    "table_1 <- read_csv(\"players.csv\", show_col_types = FALSE) |>\n",
    "  select(-hashedEmail)"
   ]
  },
  {
   "cell_type": "markdown",
   "id": "3a723d3c-8d37-4004-8150-c4079ca2aa8f",
   "metadata": {},
   "source": [
    "From this, we can see that "
   ]
  },
  {
   "cell_type": "code",
   "execution_count": null,
   "id": "9939d8b7-6171-48a0-8da9-c6889abef430",
   "metadata": {},
   "outputs": [],
   "source": []
  }
 ],
 "metadata": {
  "kernelspec": {
   "display_name": "R",
   "language": "R",
   "name": "ir"
  },
  "language_info": {
   "codemirror_mode": "r",
   "file_extension": ".r",
   "mimetype": "text/x-r-source",
   "name": "R",
   "pygments_lexer": "r",
   "version": "4.3.3"
  }
 },
 "nbformat": 4,
 "nbformat_minor": 5
}
