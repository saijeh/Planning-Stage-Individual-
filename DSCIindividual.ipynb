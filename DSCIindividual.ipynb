{
 "cells": [
  {
   "cell_type": "markdown",
   "id": "6d3b1873-9cfd-42bb-a2b1-560897533ae1",
   "metadata": {},
   "source": [
    "A research group in Computer Science at UBC has set up a MineCraft server in order to tackle the problem of predicting usage of a video game research server. By the provided data, the following question can be answered: What player characteristics and behaviours are most predictive of subscribing to a game-related newsletter, and how do these features differ between various player types?"
   ]
  },
  {
   "cell_type": "code",
   "execution_count": 7,
   "id": "7fe76139-724b-403c-8be5-9cdd7d960ae8",
   "metadata": {},
   "outputs": [
    {
     "name": "stderr",
     "output_type": "stream",
     "text": [
      "\u001b[1mRows: \u001b[22m\u001b[34m196\u001b[39m \u001b[1mColumns: \u001b[22m\u001b[34m7\u001b[39m\n",
      "\u001b[36m──\u001b[39m \u001b[1mColumn specification\u001b[22m \u001b[36m────────────────────────────────────────────────────────\u001b[39m\n",
      "\u001b[1mDelimiter:\u001b[22m \",\"\n",
      "\u001b[31mchr\u001b[39m (4): experience, hashedEmail, name, gender\n",
      "\u001b[32mdbl\u001b[39m (2): played_hours, Age\n",
      "\u001b[33mlgl\u001b[39m (1): subscribe\n",
      "\n",
      "\u001b[36mℹ\u001b[39m Use `spec()` to retrieve the full column specification for this data.\n",
      "\u001b[36mℹ\u001b[39m Specify the column types or set `show_col_types = FALSE` to quiet this message.\n"
     ]
    }
   ],
   "source": [
    "library(tidyverse)\n",
    "table_1 <- \"players.csv\"\n",
    "table_1_data <- read_csv(table_1)"
   ]
  },
  {
   "cell_type": "code",
   "execution_count": 5,
   "id": "56f69d64-06ad-4da7-9d6f-370c2361d6aa",
   "metadata": {},
   "outputs": [
    {
     "name": "stderr",
     "output_type": "stream",
     "text": [
      "\u001b[1mRows: \u001b[22m\u001b[34m1535\u001b[39m \u001b[1mColumns: \u001b[22m\u001b[34m5\u001b[39m\n",
      "\u001b[36m──\u001b[39m \u001b[1mColumn specification\u001b[22m \u001b[36m────────────────────────────────────────────────────────\u001b[39m\n",
      "\u001b[1mDelimiter:\u001b[22m \",\"\n",
      "\u001b[31mchr\u001b[39m (3): hashedEmail, start_time, end_time\n",
      "\u001b[32mdbl\u001b[39m (2): original_start_time, original_end_time\n",
      "\n",
      "\u001b[36mℹ\u001b[39m Use `spec()` to retrieve the full column specification for this data.\n",
      "\u001b[36mℹ\u001b[39m Specify the column types or set `show_col_types = FALSE` to quiet this message.\n"
     ]
    }
   ],
   "source": [
    "library(tidyverse)\n",
    "table_2 <- \"sessions.csv\"\n",
    "table_2_data <- read_csv(table_2)"
   ]
  },
  {
   "cell_type": "markdown",
   "id": "f9a9c3ae-9f4d-4a5c-a9aa-41c88363bf39",
   "metadata": {},
   "source": [
    "By observing both tables from the available datasets, we can conclude and narrow down what is useful to the intended investigation and tidy the data, making it easier to be analyzed, as well as excluding data that is not needed."
   ]
  },
  {
   "cell_type": "code",
   "execution_count": null,
   "id": "72c8a6d2-55bb-4ed6-ac85-1197d05a4533",
   "metadata": {},
   "outputs": [],
   "source": []
  },
  {
   "cell_type": "markdown",
   "id": "83005941-6b05-46bd-bdcb-e0bf9f55c975",
   "metadata": {},
   "source": [
    "To start, Table 1 includes the following data: \n",
    "- The experience of players\n",
    "- Whether or not the players are subscribed to the sever\n",
    "- Hashed emails \n",
    "- The number of hours played in that session \n",
    "- The name of players\n",
    "- The age of players\n",
    "- The gender of players\n",
    "\n",
    "From looking into the data included in Table 1, it can be seen that the primary focus is on the characteristics of the individuals playing the server. The inclusion of playing habits while simultaneously looking at the difference of characteristics among those in the dataset suggest that trends and conclusions can be made by, for instance, by filtering the table in different ways such as by gender, as well as plotting it to visualize relationships."
   ]
  },
  {
   "cell_type": "code",
   "execution_count": 3,
   "id": "ca9ee2f3-2492-4089-888f-0695b892f7e1",
   "metadata": {},
   "outputs": [],
   "source": []
  },
  {
   "cell_type": "markdown",
   "id": "3a723d3c-8d37-4004-8150-c4079ca2aa8f",
   "metadata": {},
   "source": [
    "From this, we can see that "
   ]
  },
  {
   "cell_type": "code",
   "execution_count": null,
   "id": "9939d8b7-6171-48a0-8da9-c6889abef430",
   "metadata": {},
   "outputs": [],
   "source": []
  }
 ],
 "metadata": {
  "kernelspec": {
   "display_name": "R",
   "language": "R",
   "name": "ir"
  },
  "language_info": {
   "codemirror_mode": "r",
   "file_extension": ".r",
   "mimetype": "text/x-r-source",
   "name": "R",
   "pygments_lexer": "r",
   "version": "4.3.3"
  }
 },
 "nbformat": 4,
 "nbformat_minor": 5
}
